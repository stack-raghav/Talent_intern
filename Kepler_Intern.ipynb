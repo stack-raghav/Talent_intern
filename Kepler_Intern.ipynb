{
  "nbformat": 4,
  "nbformat_minor": 0,
  "metadata": {
    "colab": {
      "name": "Kepler_Intern.ipynb",
      "provenance": [],
      "collapsed_sections": []
    },
    "kernelspec": {
      "name": "python3",
      "display_name": "Python 3"
    },
    "language_info": {
      "name": "python"
    }
  },
  "cells": [
    {
      "cell_type": "code",
      "execution_count": 4,
      "metadata": {
        "colab": {
          "resources": {
            "http://localhost:8080/nbextensions/google.colab/files.js": {
              "data": "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",
              "ok": true,
              "headers": [
                [
                  "content-type",
                  "application/javascript"
                ]
              ],
              "status": 200,
              "status_text": "OK"
            }
          },
          "base_uri": "https://localhost:8080/",
          "height": 75
        },
        "id": "bf7lsuB4C2Gg",
        "outputId": "3472a59f-f610-48e9-ca5d-3f25a512f099"
      },
      "outputs": [
        {
          "output_type": "display_data",
          "data": {
            "text/html": [
              "\n",
              "     <input type=\"file\" id=\"files-1ccecc64-2e3b-4d02-b0a8-01eb41030da8\" name=\"files[]\" multiple disabled\n",
              "        style=\"border:none\" />\n",
              "     <output id=\"result-1ccecc64-2e3b-4d02-b0a8-01eb41030da8\">\n",
              "      Upload widget is only available when the cell has been executed in the\n",
              "      current browser session. Please rerun this cell to enable.\n",
              "      </output>\n",
              "      <script src=\"/nbextensions/google.colab/files.js\"></script> "
            ],
            "text/plain": [
              "<IPython.core.display.HTML object>"
            ]
          },
          "metadata": {}
        },
        {
          "output_type": "stream",
          "name": "stdout",
          "text": [
            "Saving kepler_data.xlsx to kepler_data.xlsx\n"
          ]
        }
      ],
      "source": [
        "import numpy as np\n",
        "import pandas as pd\n",
        "from google.colab import files\n",
        "file = files.upload()"
      ]
    },
    {
      "cell_type": "code",
      "source": [
        "df = pd.read_excel(\"kepler_data.xlsx\", skiprows= range(0,52))"
      ],
      "metadata": {
        "id": "c5-NJa3JE6QP"
      },
      "execution_count": 5,
      "outputs": []
    },
    {
      "cell_type": "code",
      "source": [
        "df.head()"
      ],
      "metadata": {
        "colab": {
          "base_uri": "https://localhost:8080/",
          "height": 270
        },
        "id": "1cF6ncGWF1dB",
        "outputId": "7014ee02-9e03-4680-d6e7-67c3ce8d57a1"
      },
      "execution_count": 3,
      "outputs": [
        {
          "output_type": "execute_result",
          "data": {
            "text/html": [
              "\n",
              "  <div id=\"df-389deef8-79f6-4648-88bf-343084b666f7\">\n",
              "    <div class=\"colab-df-container\">\n",
              "      <div>\n",
              "<style scoped>\n",
              "    .dataframe tbody tr th:only-of-type {\n",
              "        vertical-align: middle;\n",
              "    }\n",
              "\n",
              "    .dataframe tbody tr th {\n",
              "        vertical-align: top;\n",
              "    }\n",
              "\n",
              "    .dataframe thead th {\n",
              "        text-align: right;\n",
              "    }\n",
              "</style>\n",
              "<table border=\"1\" class=\"dataframe\">\n",
              "  <thead>\n",
              "    <tr style=\"text-align: right;\">\n",
              "      <th></th>\n",
              "      <th>kepid</th>\n",
              "      <th>kepoi_name</th>\n",
              "      <th>kepler_name</th>\n",
              "      <th>koi_disposition</th>\n",
              "      <th>koi_pdisposition</th>\n",
              "      <th>koi_score</th>\n",
              "      <th>koi_fpflag_nt</th>\n",
              "      <th>koi_fpflag_ss</th>\n",
              "      <th>koi_fpflag_co</th>\n",
              "      <th>koi_fpflag_ec</th>\n",
              "      <th>koi_period</th>\n",
              "      <th>koi_period_err1</th>\n",
              "      <th>koi_period_err2</th>\n",
              "      <th>koi_time0bk</th>\n",
              "      <th>koi_time0bk_err1</th>\n",
              "      <th>koi_time0bk_err2</th>\n",
              "      <th>koi_impact</th>\n",
              "      <th>koi_impact_err1</th>\n",
              "      <th>koi_impact_err2</th>\n",
              "      <th>koi_duration</th>\n",
              "      <th>koi_duration_err1</th>\n",
              "      <th>koi_duration_err2</th>\n",
              "      <th>koi_depth</th>\n",
              "      <th>koi_depth_err1</th>\n",
              "      <th>koi_depth_err2</th>\n",
              "      <th>koi_prad</th>\n",
              "      <th>koi_prad_err1</th>\n",
              "      <th>koi_prad_err2</th>\n",
              "      <th>koi_teq</th>\n",
              "      <th>koi_teq_err1</th>\n",
              "      <th>koi_teq_err2</th>\n",
              "      <th>koi_insol</th>\n",
              "      <th>koi_insol_err1</th>\n",
              "      <th>koi_insol_err2</th>\n",
              "      <th>koi_model_snr</th>\n",
              "      <th>koi_tce_plnt_num</th>\n",
              "      <th>koi_tce_delivname</th>\n",
              "      <th>koi_steff</th>\n",
              "      <th>koi_steff_err1</th>\n",
              "      <th>koi_steff_err2</th>\n",
              "      <th>koi_slogg</th>\n",
              "      <th>koi_slogg_err1</th>\n",
              "      <th>koi_slogg_err2</th>\n",
              "      <th>koi_srad</th>\n",
              "      <th>koi_srad_err1</th>\n",
              "      <th>koi_srad_err2</th>\n",
              "      <th>ra</th>\n",
              "      <th>dec</th>\n",
              "      <th>koi_kepmag</th>\n",
              "    </tr>\n",
              "  </thead>\n",
              "  <tbody>\n",
              "    <tr>\n",
              "      <th>0</th>\n",
              "      <td>10797460.0</td>\n",
              "      <td>K00752.01</td>\n",
              "      <td>Kepler-227 b</td>\n",
              "      <td>CONFIRMED</td>\n",
              "      <td>CANDIDATE</td>\n",
              "      <td>1.000</td>\n",
              "      <td>0.0</td>\n",
              "      <td>0.0</td>\n",
              "      <td>0.0</td>\n",
              "      <td>0.0</td>\n",
              "      <td>9.488036</td>\n",
              "      <td>2.775000e-05</td>\n",
              "      <td>-2.775000e-05</td>\n",
              "      <td>170.538750</td>\n",
              "      <td>0.002160</td>\n",
              "      <td>-0.002160</td>\n",
              "      <td>0.146</td>\n",
              "      <td>0.318</td>\n",
              "      <td>-0.146</td>\n",
              "      <td>2.95750</td>\n",
              "      <td>0.08190</td>\n",
              "      <td>-0.08190</td>\n",
              "      <td>615.8</td>\n",
              "      <td>19.5</td>\n",
              "      <td>-19.5</td>\n",
              "      <td>2.26</td>\n",
              "      <td>0.26</td>\n",
              "      <td>-0.15</td>\n",
              "      <td>793.0</td>\n",
              "      <td>NaN</td>\n",
              "      <td>NaN</td>\n",
              "      <td>93.59</td>\n",
              "      <td>29.45</td>\n",
              "      <td>-16.65</td>\n",
              "      <td>35.8</td>\n",
              "      <td>1.0</td>\n",
              "      <td>q1_q17_dr25_tce</td>\n",
              "      <td>5455.0</td>\n",
              "      <td>81.0</td>\n",
              "      <td>-81.0</td>\n",
              "      <td>4.467</td>\n",
              "      <td>0.064</td>\n",
              "      <td>-0.096</td>\n",
              "      <td>0.927</td>\n",
              "      <td>0.105</td>\n",
              "      <td>-0.061</td>\n",
              "      <td>291.93423</td>\n",
              "      <td>48.141651</td>\n",
              "      <td>15.347</td>\n",
              "    </tr>\n",
              "    <tr>\n",
              "      <th>1</th>\n",
              "      <td>10797460.0</td>\n",
              "      <td>K00752.02</td>\n",
              "      <td>Kepler-227 c</td>\n",
              "      <td>CONFIRMED</td>\n",
              "      <td>CANDIDATE</td>\n",
              "      <td>0.969</td>\n",
              "      <td>0.0</td>\n",
              "      <td>0.0</td>\n",
              "      <td>0.0</td>\n",
              "      <td>0.0</td>\n",
              "      <td>54.418383</td>\n",
              "      <td>2.479000e-04</td>\n",
              "      <td>-2.479000e-04</td>\n",
              "      <td>162.513840</td>\n",
              "      <td>0.003520</td>\n",
              "      <td>-0.003520</td>\n",
              "      <td>0.586</td>\n",
              "      <td>0.059</td>\n",
              "      <td>-0.443</td>\n",
              "      <td>4.50700</td>\n",
              "      <td>0.11600</td>\n",
              "      <td>-0.11600</td>\n",
              "      <td>874.8</td>\n",
              "      <td>35.5</td>\n",
              "      <td>-35.5</td>\n",
              "      <td>2.83</td>\n",
              "      <td>0.32</td>\n",
              "      <td>-0.19</td>\n",
              "      <td>443.0</td>\n",
              "      <td>NaN</td>\n",
              "      <td>NaN</td>\n",
              "      <td>9.11</td>\n",
              "      <td>2.87</td>\n",
              "      <td>-1.62</td>\n",
              "      <td>25.8</td>\n",
              "      <td>2.0</td>\n",
              "      <td>q1_q17_dr25_tce</td>\n",
              "      <td>5455.0</td>\n",
              "      <td>81.0</td>\n",
              "      <td>-81.0</td>\n",
              "      <td>4.467</td>\n",
              "      <td>0.064</td>\n",
              "      <td>-0.096</td>\n",
              "      <td>0.927</td>\n",
              "      <td>0.105</td>\n",
              "      <td>-0.061</td>\n",
              "      <td>291.93423</td>\n",
              "      <td>48.141651</td>\n",
              "      <td>15.347</td>\n",
              "    </tr>\n",
              "    <tr>\n",
              "      <th>2</th>\n",
              "      <td>10811496.0</td>\n",
              "      <td>K00753.01</td>\n",
              "      <td>NaN</td>\n",
              "      <td>CANDIDATE</td>\n",
              "      <td>CANDIDATE</td>\n",
              "      <td>0.000</td>\n",
              "      <td>0.0</td>\n",
              "      <td>0.0</td>\n",
              "      <td>0.0</td>\n",
              "      <td>0.0</td>\n",
              "      <td>19.899140</td>\n",
              "      <td>1.494000e-05</td>\n",
              "      <td>-1.494000e-05</td>\n",
              "      <td>175.850252</td>\n",
              "      <td>0.000581</td>\n",
              "      <td>-0.000581</td>\n",
              "      <td>0.969</td>\n",
              "      <td>5.126</td>\n",
              "      <td>-0.077</td>\n",
              "      <td>1.78220</td>\n",
              "      <td>0.03410</td>\n",
              "      <td>-0.03410</td>\n",
              "      <td>10829.0</td>\n",
              "      <td>171.0</td>\n",
              "      <td>-171.0</td>\n",
              "      <td>14.60</td>\n",
              "      <td>3.92</td>\n",
              "      <td>-1.31</td>\n",
              "      <td>638.0</td>\n",
              "      <td>NaN</td>\n",
              "      <td>NaN</td>\n",
              "      <td>39.30</td>\n",
              "      <td>31.04</td>\n",
              "      <td>-10.49</td>\n",
              "      <td>76.3</td>\n",
              "      <td>1.0</td>\n",
              "      <td>q1_q17_dr25_tce</td>\n",
              "      <td>5853.0</td>\n",
              "      <td>158.0</td>\n",
              "      <td>-176.0</td>\n",
              "      <td>4.544</td>\n",
              "      <td>0.044</td>\n",
              "      <td>-0.176</td>\n",
              "      <td>0.868</td>\n",
              "      <td>0.233</td>\n",
              "      <td>-0.078</td>\n",
              "      <td>297.00482</td>\n",
              "      <td>48.134129</td>\n",
              "      <td>15.436</td>\n",
              "    </tr>\n",
              "    <tr>\n",
              "      <th>3</th>\n",
              "      <td>10848459.0</td>\n",
              "      <td>K00754.01</td>\n",
              "      <td>NaN</td>\n",
              "      <td>FALSE POSITIVE</td>\n",
              "      <td>FALSE POSITIVE</td>\n",
              "      <td>0.000</td>\n",
              "      <td>0.0</td>\n",
              "      <td>1.0</td>\n",
              "      <td>0.0</td>\n",
              "      <td>0.0</td>\n",
              "      <td>1.736952</td>\n",
              "      <td>2.630000e-07</td>\n",
              "      <td>-2.630000e-07</td>\n",
              "      <td>170.307565</td>\n",
              "      <td>0.000115</td>\n",
              "      <td>-0.000115</td>\n",
              "      <td>1.276</td>\n",
              "      <td>0.115</td>\n",
              "      <td>-0.092</td>\n",
              "      <td>2.40641</td>\n",
              "      <td>0.00537</td>\n",
              "      <td>-0.00537</td>\n",
              "      <td>8079.2</td>\n",
              "      <td>12.8</td>\n",
              "      <td>-12.8</td>\n",
              "      <td>33.46</td>\n",
              "      <td>8.50</td>\n",
              "      <td>-2.83</td>\n",
              "      <td>1395.0</td>\n",
              "      <td>NaN</td>\n",
              "      <td>NaN</td>\n",
              "      <td>891.96</td>\n",
              "      <td>668.95</td>\n",
              "      <td>-230.35</td>\n",
              "      <td>505.6</td>\n",
              "      <td>1.0</td>\n",
              "      <td>q1_q17_dr25_tce</td>\n",
              "      <td>5805.0</td>\n",
              "      <td>157.0</td>\n",
              "      <td>-174.0</td>\n",
              "      <td>4.564</td>\n",
              "      <td>0.053</td>\n",
              "      <td>-0.168</td>\n",
              "      <td>0.791</td>\n",
              "      <td>0.201</td>\n",
              "      <td>-0.067</td>\n",
              "      <td>285.53461</td>\n",
              "      <td>48.285210</td>\n",
              "      <td>15.597</td>\n",
              "    </tr>\n",
              "    <tr>\n",
              "      <th>4</th>\n",
              "      <td>10854555.0</td>\n",
              "      <td>K00755.01</td>\n",
              "      <td>Kepler-664 b</td>\n",
              "      <td>CONFIRMED</td>\n",
              "      <td>CANDIDATE</td>\n",
              "      <td>1.000</td>\n",
              "      <td>0.0</td>\n",
              "      <td>0.0</td>\n",
              "      <td>0.0</td>\n",
              "      <td>0.0</td>\n",
              "      <td>2.525592</td>\n",
              "      <td>3.761000e-06</td>\n",
              "      <td>-3.761000e-06</td>\n",
              "      <td>171.595550</td>\n",
              "      <td>0.001130</td>\n",
              "      <td>-0.001130</td>\n",
              "      <td>0.701</td>\n",
              "      <td>0.235</td>\n",
              "      <td>-0.478</td>\n",
              "      <td>1.65450</td>\n",
              "      <td>0.04200</td>\n",
              "      <td>-0.04200</td>\n",
              "      <td>603.3</td>\n",
              "      <td>16.9</td>\n",
              "      <td>-16.9</td>\n",
              "      <td>2.75</td>\n",
              "      <td>0.88</td>\n",
              "      <td>-0.35</td>\n",
              "      <td>1406.0</td>\n",
              "      <td>NaN</td>\n",
              "      <td>NaN</td>\n",
              "      <td>926.16</td>\n",
              "      <td>874.33</td>\n",
              "      <td>-314.24</td>\n",
              "      <td>40.9</td>\n",
              "      <td>1.0</td>\n",
              "      <td>q1_q17_dr25_tce</td>\n",
              "      <td>6031.0</td>\n",
              "      <td>169.0</td>\n",
              "      <td>-211.0</td>\n",
              "      <td>4.438</td>\n",
              "      <td>0.070</td>\n",
              "      <td>-0.210</td>\n",
              "      <td>1.046</td>\n",
              "      <td>0.334</td>\n",
              "      <td>-0.133</td>\n",
              "      <td>288.75488</td>\n",
              "      <td>48.226200</td>\n",
              "      <td>15.509</td>\n",
              "    </tr>\n",
              "  </tbody>\n",
              "</table>\n",
              "</div>\n",
              "      <button class=\"colab-df-convert\" onclick=\"convertToInteractive('df-389deef8-79f6-4648-88bf-343084b666f7')\"\n",
              "              title=\"Convert this dataframe to an interactive table.\"\n",
              "              style=\"display:none;\">\n",
              "        \n",
              "  <svg xmlns=\"http://www.w3.org/2000/svg\" height=\"24px\"viewBox=\"0 0 24 24\"\n",
              "       width=\"24px\">\n",
              "    <path d=\"M0 0h24v24H0V0z\" fill=\"none\"/>\n",
              "    <path d=\"M18.56 5.44l.94 2.06.94-2.06 2.06-.94-2.06-.94-.94-2.06-.94 2.06-2.06.94zm-11 1L8.5 8.5l.94-2.06 2.06-.94-2.06-.94L8.5 2.5l-.94 2.06-2.06.94zm10 10l.94 2.06.94-2.06 2.06-.94-2.06-.94-.94-2.06-.94 2.06-2.06.94z\"/><path d=\"M17.41 7.96l-1.37-1.37c-.4-.4-.92-.59-1.43-.59-.52 0-1.04.2-1.43.59L10.3 9.45l-7.72 7.72c-.78.78-.78 2.05 0 2.83L4 21.41c.39.39.9.59 1.41.59.51 0 1.02-.2 1.41-.59l7.78-7.78 2.81-2.81c.8-.78.8-2.07 0-2.86zM5.41 20L4 18.59l7.72-7.72 1.47 1.35L5.41 20z\"/>\n",
              "  </svg>\n",
              "      </button>\n",
              "      \n",
              "  <style>\n",
              "    .colab-df-container {\n",
              "      display:flex;\n",
              "      flex-wrap:wrap;\n",
              "      gap: 12px;\n",
              "    }\n",
              "\n",
              "    .colab-df-convert {\n",
              "      background-color: #E8F0FE;\n",
              "      border: none;\n",
              "      border-radius: 50%;\n",
              "      cursor: pointer;\n",
              "      display: none;\n",
              "      fill: #1967D2;\n",
              "      height: 32px;\n",
              "      padding: 0 0 0 0;\n",
              "      width: 32px;\n",
              "    }\n",
              "\n",
              "    .colab-df-convert:hover {\n",
              "      background-color: #E2EBFA;\n",
              "      box-shadow: 0px 1px 2px rgba(60, 64, 67, 0.3), 0px 1px 3px 1px rgba(60, 64, 67, 0.15);\n",
              "      fill: #174EA6;\n",
              "    }\n",
              "\n",
              "    [theme=dark] .colab-df-convert {\n",
              "      background-color: #3B4455;\n",
              "      fill: #D2E3FC;\n",
              "    }\n",
              "\n",
              "    [theme=dark] .colab-df-convert:hover {\n",
              "      background-color: #434B5C;\n",
              "      box-shadow: 0px 1px 3px 1px rgba(0, 0, 0, 0.15);\n",
              "      filter: drop-shadow(0px 1px 2px rgba(0, 0, 0, 0.3));\n",
              "      fill: #FFFFFF;\n",
              "    }\n",
              "  </style>\n",
              "\n",
              "      <script>\n",
              "        const buttonEl =\n",
              "          document.querySelector('#df-389deef8-79f6-4648-88bf-343084b666f7 button.colab-df-convert');\n",
              "        buttonEl.style.display =\n",
              "          google.colab.kernel.accessAllowed ? 'block' : 'none';\n",
              "\n",
              "        async function convertToInteractive(key) {\n",
              "          const element = document.querySelector('#df-389deef8-79f6-4648-88bf-343084b666f7');\n",
              "          const dataTable =\n",
              "            await google.colab.kernel.invokeFunction('convertToInteractive',\n",
              "                                                     [key], {});\n",
              "          if (!dataTable) return;\n",
              "\n",
              "          const docLinkHtml = 'Like what you see? Visit the ' +\n",
              "            '<a target=\"_blank\" href=https://colab.research.google.com/notebooks/data_table.ipynb>data table notebook</a>'\n",
              "            + ' to learn more about interactive tables.';\n",
              "          element.innerHTML = '';\n",
              "          dataTable['output_type'] = 'display_data';\n",
              "          await google.colab.output.renderOutput(dataTable, element);\n",
              "          const docLink = document.createElement('div');\n",
              "          docLink.innerHTML = docLinkHtml;\n",
              "          element.appendChild(docLink);\n",
              "        }\n",
              "      </script>\n",
              "    </div>\n",
              "  </div>\n",
              "  "
            ],
            "text/plain": [
              "        kepid kepoi_name   kepler_name  ...         ra        dec  koi_kepmag\n",
              "0  10797460.0  K00752.01  Kepler-227 b  ...  291.93423  48.141651      15.347\n",
              "1  10797460.0  K00752.02  Kepler-227 c  ...  291.93423  48.141651      15.347\n",
              "2  10811496.0  K00753.01           NaN  ...  297.00482  48.134129      15.436\n",
              "3  10848459.0  K00754.01           NaN  ...  285.53461  48.285210      15.597\n",
              "4  10854555.0  K00755.01  Kepler-664 b  ...  288.75488  48.226200      15.509\n",
              "\n",
              "[5 rows x 49 columns]"
            ]
          },
          "metadata": {},
          "execution_count": 3
        }
      ]
    },
    {
      "cell_type": "code",
      "source": [
        "df.info()"
      ],
      "metadata": {
        "colab": {
          "base_uri": "https://localhost:8080/"
        },
        "id": "SRNflgvZTbMo",
        "outputId": "3de1d388-0130-4c50-d808-cda2cacc639e"
      },
      "execution_count": 4,
      "outputs": [
        {
          "output_type": "stream",
          "name": "stdout",
          "text": [
            "<class 'pandas.core.frame.DataFrame'>\n",
            "RangeIndex: 9564 entries, 0 to 9563\n",
            "Data columns (total 49 columns):\n",
            " #   Column             Non-Null Count  Dtype  \n",
            "---  ------             --------------  -----  \n",
            " 0   kepid              9564 non-null   float64\n",
            " 1   kepoi_name         9564 non-null   object \n",
            " 2   kepler_name        2360 non-null   object \n",
            " 3   koi_disposition    9564 non-null   object \n",
            " 4   koi_pdisposition   9564 non-null   object \n",
            " 5   koi_score          8054 non-null   float64\n",
            " 6   koi_fpflag_nt      9564 non-null   float64\n",
            " 7   koi_fpflag_ss      9564 non-null   float64\n",
            " 8   koi_fpflag_co      9564 non-null   float64\n",
            " 9   koi_fpflag_ec      9564 non-null   float64\n",
            " 10  koi_period         9564 non-null   float64\n",
            " 11  koi_period_err1    9110 non-null   float64\n",
            " 12  koi_period_err2    9110 non-null   float64\n",
            " 13  koi_time0bk        9564 non-null   float64\n",
            " 14  koi_time0bk_err1   9110 non-null   float64\n",
            " 15  koi_time0bk_err2   9110 non-null   float64\n",
            " 16  koi_impact         9201 non-null   float64\n",
            " 17  koi_impact_err1    9110 non-null   float64\n",
            " 18  koi_impact_err2    9110 non-null   float64\n",
            " 19  koi_duration       9564 non-null   float64\n",
            " 20  koi_duration_err1  9110 non-null   float64\n",
            " 21  koi_duration_err2  9110 non-null   float64\n",
            " 22  koi_depth          9201 non-null   float64\n",
            " 23  koi_depth_err1     9110 non-null   float64\n",
            " 24  koi_depth_err2     9110 non-null   float64\n",
            " 25  koi_prad           9201 non-null   float64\n",
            " 26  koi_prad_err1      9201 non-null   float64\n",
            " 27  koi_prad_err2      9201 non-null   float64\n",
            " 28  koi_teq            9201 non-null   float64\n",
            " 29  koi_teq_err1       0 non-null      float64\n",
            " 30  koi_teq_err2       0 non-null      float64\n",
            " 31  koi_insol          9243 non-null   float64\n",
            " 32  koi_insol_err1     9243 non-null   float64\n",
            " 33  koi_insol_err2     9243 non-null   float64\n",
            " 34  koi_model_snr      9201 non-null   float64\n",
            " 35  koi_tce_plnt_num   9218 non-null   float64\n",
            " 36  koi_tce_delivname  9218 non-null   object \n",
            " 37  koi_steff          9201 non-null   float64\n",
            " 38  koi_steff_err1     9096 non-null   float64\n",
            " 39  koi_steff_err2     9081 non-null   float64\n",
            " 40  koi_slogg          9201 non-null   float64\n",
            " 41  koi_slogg_err1     9096 non-null   float64\n",
            " 42  koi_slogg_err2     9096 non-null   float64\n",
            " 43  koi_srad           9201 non-null   float64\n",
            " 44  koi_srad_err1      9096 non-null   float64\n",
            " 45  koi_srad_err2      9096 non-null   float64\n",
            " 46  ra                 9564 non-null   float64\n",
            " 47  dec                9564 non-null   float64\n",
            " 48  koi_kepmag         9563 non-null   float64\n",
            "dtypes: float64(44), object(5)\n",
            "memory usage: 3.6+ MB\n"
          ]
        }
      ]
    },
    {
      "cell_type": "code",
      "source": [
        "import matplotlib.pyplot as plt\n",
        "%matplotlib inline\n",
        "drop_list = [\"kepid\",\"kepoi_name\",\"kepler_name\",\"koi_tce_delivname\"]\n",
        "for col in df:\n",
        "    if 'err' in col:\n",
        "        drop_list.append(col)\n",
        "df = df.drop(drop_list, axis=1)\n",
        "# plotting histograms\n",
        "df.hist(bins=50, figsize=(20,12))\n",
        "plt.show()"
      ],
      "metadata": {
        "colab": {
          "base_uri": "https://localhost:8080/",
          "height": 716
        },
        "id": "uqQDlX32T0wk",
        "outputId": "64ddd905-5553-440d-cfb8-282398138df5"
      },
      "execution_count": 6,
      "outputs": [
        {
          "output_type": "display_data",
          "data": {
            "image/png": "[encoded data removed]",
            "text/plain": [
              "<Figure size 1440x864 with 25 Axes>"
            ]
          },
          "metadata": {
            "needs_background": "light"
          }
        }
      ]
    },
    {
      "cell_type": "code",
      "source": [
        "from sklearn.pipeline import Pipeline\n",
        "from sklearn.preprocessing import StandardScaler\n",
        "from sklearn.compose import ColumnTransformer\n",
        "from sklearn.impute import SimpleImputer\n",
        "from sklearn.preprocessing import OneHotEncoder\n",
        "\n",
        "cat_attribs = []\n",
        "df1 = df.drop(\"koi_disposition\", axis = 1)\n",
        "for label in df1:\n",
        "    if (df1[label].dtype != np.number) and (df1[label].dtype != \"int64\"):\n",
        "        cat_attribs += [label]\n",
        "        \n",
        "# getting numerical values  \n",
        "num_attribs = df.select_dtypes(include=['int64', 'float64']).columns\n",
        "\n",
        "num_pipeline = Pipeline([\n",
        "    ('imputer', SimpleImputer(missing_values=float(\"NaN\"),strategy=\"mean\")),\n",
        "    ('scaler', StandardScaler()),])\n",
        "full_pipeline = ColumnTransformer([\n",
        "(\"num\", num_pipeline, num_attribs),\n",
        "(\"cat\", OneHotEncoder(), cat_attribs),\n",
        "])"
      ],
      "metadata": {
        "colab": {
          "base_uri": "https://localhost:8080/"
        },
        "id": "tbAVmArEWV_b",
        "outputId": "a1144584-9cc2-47f2-f509-e0b63c3e2833"
      },
      "execution_count": 7,
      "outputs": [
        {
          "output_type": "stream",
          "name": "stderr",
          "text": [
            "/usr/local/lib/python3.7/dist-packages/ipykernel_launcher.py:10: DeprecationWarning: Converting `np.inexact` or `np.floating` to a dtype is deprecated. The current result is `float64` which is not strictly correct.\n",
            "  # Remove the CWD from sys.path while we load stuff.\n"
          ]
        }
      ]
    },
    {
      "cell_type": "code",
      "source": [
        "print(cat_attribs)"
      ],
      "metadata": {
        "colab": {
          "base_uri": "https://localhost:8080/"
        },
        "id": "RHIHgejBXTXO",
        "outputId": "c2e37775-c399-48ba-d5d1-93adde2ea39a"
      },
      "execution_count": 7,
      "outputs": [
        {
          "output_type": "stream",
          "name": "stdout",
          "text": [
            "['koi_pdisposition']\n"
          ]
        }
      ]
    },
    {
      "cell_type": "code",
      "source": [
        "print(full_pipeline)"
      ],
      "metadata": {
        "colab": {
          "base_uri": "https://localhost:8080/"
        },
        "id": "v1wosVZTXdIr",
        "outputId": "f547f9ec-127a-4831-a8ad-d53ca2c46225"
      },
      "execution_count": 8,
      "outputs": [
        {
          "output_type": "stream",
          "name": "stdout",
          "text": [
            "ColumnTransformer(transformers=[('num',\n",
            "                                 Pipeline(steps=[('imputer', SimpleImputer()),\n",
            "                                                 ('scaler', StandardScaler())]),\n",
            "                                 Index(['koi_score', 'koi_fpflag_nt', 'koi_fpflag_ss', 'koi_fpflag_co',\n",
            "       'koi_fpflag_ec', 'koi_period', 'koi_time0bk', 'koi_impact',\n",
            "       'koi_duration', 'koi_depth', 'koi_prad', 'koi_teq', 'koi_insol',\n",
            "       'koi_model_snr', 'koi_tce_plnt_num', 'koi_steff', 'koi_slogg',\n",
            "       'koi_srad', 'ra', 'dec', 'koi_kepmag'],\n",
            "      dtype='object')),\n",
            "                                ('cat', OneHotEncoder(), ['koi_pdisposition'])])\n"
          ]
        }
      ]
    },
    {
      "cell_type": "code",
      "source": [
        "df['koi_disposition'].value_counts()"
      ],
      "metadata": {
        "colab": {
          "base_uri": "https://localhost:8080/"
        },
        "id": "8_wARMXJOQsd",
        "outputId": "175ed1e7-33ea-42ee-f381-6b8824bddfc6"
      },
      "execution_count": 9,
      "outputs": [
        {
          "output_type": "execute_result",
          "data": {
            "text/plain": [
              "FALSE POSITIVE    4840\n",
              "CANDIDATE         2366\n",
              "CONFIRMED         2358\n",
              "Name: koi_disposition, dtype: int64"
            ]
          },
          "metadata": {},
          "execution_count": 9
        }
      ]
    },
    {
      "cell_type": "code",
      "source": [
        "from sklearn.preprocessing import LabelBinarizer\n",
        "y = df['koi_disposition']\n",
        "y_dense = LabelBinarizer().fit_transform(y)\n",
        "print(len(y_dense))"
      ],
      "metadata": {
        "colab": {
          "base_uri": "https://localhost:8080/"
        },
        "id": "EnQLXifzYmUw",
        "outputId": "165f9224-bcbd-4359-c3e5-e2a13de6ffe6"
      },
      "execution_count": 8,
      "outputs": [
        {
          "output_type": "stream",
          "name": "stdout",
          "text": [
            "9564\n"
          ]
        }
      ]
    },
    {
      "cell_type": "code",
      "source": [
        "print(len(df))"
      ],
      "metadata": {
        "colab": {
          "base_uri": "https://localhost:8080/"
        },
        "id": "Zjo1tvgXFlMQ",
        "outputId": "0b4d6ac1-99c9-4658-9d55-4a7c160b4631"
      },
      "execution_count": 17,
      "outputs": [
        {
          "output_type": "stream",
          "name": "stdout",
          "text": [
            "9564\n"
          ]
        }
      ]
    },
    {
      "cell_type": "code",
      "source": [
        "from sklearn.model_selection import train_test_split\n",
        "X_train, X_test, y_train, y_test = train_test_split(df.drop(\"koi_disposition\", axis=1), y, test_size = 0.2, random_state =42)\n",
        "X_train"
      ],
      "metadata": {
        "id": "A5mlpIpfYaE5",
        "colab": {
          "base_uri": "https://localhost:8080/",
          "height": 488
        },
        "outputId": "60be2b6e-8745-49c9-a81c-014b23af2c2a"
      },
      "execution_count": 49,
      "outputs": [
        {
          "output_type": "execute_result",
          "data": {
            "text/html": [
              "\n",
              "  <div id=\"df-61afffa2-1e91-4816-ad00-e3c86713380d\">\n",
              "    <div class=\"colab-df-container\">\n",
              "      <div>\n",
              "<style scoped>\n",
              "    .dataframe tbody tr th:only-of-type {\n",
              "        vertical-align: middle;\n",
              "    }\n",
              "\n",
              "    .dataframe tbody tr th {\n",
              "        vertical-align: top;\n",
              "    }\n",
              "\n",
              "    .dataframe thead th {\n",
              "        text-align: right;\n",
              "    }\n",
              "</style>\n",
              "<table border=\"1\" class=\"dataframe\">\n",
              "  <thead>\n",
              "    <tr style=\"text-align: right;\">\n",
              "      <th></th>\n",
              "      <th>koi_pdisposition</th>\n",
              "      <th>koi_score</th>\n",
              "      <th>koi_fpflag_nt</th>\n",
              "      <th>koi_fpflag_ss</th>\n",
              "      <th>koi_fpflag_co</th>\n",
              "      <th>koi_fpflag_ec</th>\n",
              "      <th>koi_period</th>\n",
              "      <th>koi_time0bk</th>\n",
              "      <th>koi_impact</th>\n",
              "      <th>koi_duration</th>\n",
              "      <th>koi_depth</th>\n",
              "      <th>koi_prad</th>\n",
              "      <th>koi_teq</th>\n",
              "      <th>koi_insol</th>\n",
              "      <th>koi_model_snr</th>\n",
              "      <th>koi_tce_plnt_num</th>\n",
              "      <th>koi_steff</th>\n",
              "      <th>koi_slogg</th>\n",
              "      <th>koi_srad</th>\n",
              "      <th>ra</th>\n",
              "      <th>dec</th>\n",
              "      <th>koi_kepmag</th>\n",
              "    </tr>\n",
              "  </thead>\n",
              "  <tbody>\n",
              "    <tr>\n",
              "      <th>8117</th>\n",
              "      <td>FALSE POSITIVE</td>\n",
              "      <td>0.000</td>\n",
              "      <td>1.0</td>\n",
              "      <td>0.0</td>\n",
              "      <td>1.0</td>\n",
              "      <td>1.0</td>\n",
              "      <td>0.580725</td>\n",
              "      <td>131.729560</td>\n",
              "      <td>0.2920</td>\n",
              "      <td>1.8200</td>\n",
              "      <td>64.2</td>\n",
              "      <td>0.75</td>\n",
              "      <td>2191.0</td>\n",
              "      <td>5418.89</td>\n",
              "      <td>16.9</td>\n",
              "      <td>1.0</td>\n",
              "      <td>5989.0</td>\n",
              "      <td>4.492</td>\n",
              "      <td>0.933</td>\n",
              "      <td>282.15744</td>\n",
              "      <td>43.689152</td>\n",
              "      <td>14.569</td>\n",
              "    </tr>\n",
              "    <tr>\n",
              "      <th>5245</th>\n",
              "      <td>CANDIDATE</td>\n",
              "      <td>0.997</td>\n",
              "      <td>0.0</td>\n",
              "      <td>0.0</td>\n",
              "      <td>0.0</td>\n",
              "      <td>0.0</td>\n",
              "      <td>14.532605</td>\n",
              "      <td>140.468500</td>\n",
              "      <td>0.1120</td>\n",
              "      <td>2.4212</td>\n",
              "      <td>328.9</td>\n",
              "      <td>1.69</td>\n",
              "      <td>746.0</td>\n",
              "      <td>73.37</td>\n",
              "      <td>29.0</td>\n",
              "      <td>1.0</td>\n",
              "      <td>6003.0</td>\n",
              "      <td>4.507</td>\n",
              "      <td>0.932</td>\n",
              "      <td>285.71191</td>\n",
              "      <td>49.706661</td>\n",
              "      <td>13.785</td>\n",
              "    </tr>\n",
              "    <tr>\n",
              "      <th>5865</th>\n",
              "      <td>FALSE POSITIVE</td>\n",
              "      <td>1.000</td>\n",
              "      <td>0.0</td>\n",
              "      <td>0.0</td>\n",
              "      <td>1.0</td>\n",
              "      <td>0.0</td>\n",
              "      <td>1.339670</td>\n",
              "      <td>132.167860</td>\n",
              "      <td>0.6020</td>\n",
              "      <td>1.8950</td>\n",
              "      <td>28.6</td>\n",
              "      <td>1.27</td>\n",
              "      <td>3448.0</td>\n",
              "      <td>33385.02</td>\n",
              "      <td>21.7</td>\n",
              "      <td>1.0</td>\n",
              "      <td>8867.0</td>\n",
              "      <td>3.988</td>\n",
              "      <td>2.245</td>\n",
              "      <td>297.19012</td>\n",
              "      <td>40.027969</td>\n",
              "      <td>10.455</td>\n",
              "    </tr>\n",
              "    <tr>\n",
              "      <th>4050</th>\n",
              "      <td>FALSE POSITIVE</td>\n",
              "      <td>0.000</td>\n",
              "      <td>0.0</td>\n",
              "      <td>1.0</td>\n",
              "      <td>1.0</td>\n",
              "      <td>0.0</td>\n",
              "      <td>160.412202</td>\n",
              "      <td>262.400220</td>\n",
              "      <td>0.9030</td>\n",
              "      <td>4.9200</td>\n",
              "      <td>2538.0</td>\n",
              "      <td>4.45</td>\n",
              "      <td>270.0</td>\n",
              "      <td>1.26</td>\n",
              "      <td>24.4</td>\n",
              "      <td>1.0</td>\n",
              "      <td>5269.0</td>\n",
              "      <td>4.620</td>\n",
              "      <td>0.727</td>\n",
              "      <td>293.20773</td>\n",
              "      <td>41.698582</td>\n",
              "      <td>15.407</td>\n",
              "    </tr>\n",
              "    <tr>\n",
              "      <th>5130</th>\n",
              "      <td>CANDIDATE</td>\n",
              "      <td>0.996</td>\n",
              "      <td>0.0</td>\n",
              "      <td>0.0</td>\n",
              "      <td>0.0</td>\n",
              "      <td>0.0</td>\n",
              "      <td>11.937835</td>\n",
              "      <td>133.261200</td>\n",
              "      <td>0.0360</td>\n",
              "      <td>4.6520</td>\n",
              "      <td>246.0</td>\n",
              "      <td>1.15</td>\n",
              "      <td>671.0</td>\n",
              "      <td>47.91</td>\n",
              "      <td>9.6</td>\n",
              "      <td>1.0</td>\n",
              "      <td>5469.0</td>\n",
              "      <td>4.611</td>\n",
              "      <td>0.738</td>\n",
              "      <td>296.65256</td>\n",
              "      <td>46.618809</td>\n",
              "      <td>15.954</td>\n",
              "    </tr>\n",
              "    <tr>\n",
              "      <th>...</th>\n",
              "      <td>...</td>\n",
              "      <td>...</td>\n",
              "      <td>...</td>\n",
              "      <td>...</td>\n",
              "      <td>...</td>\n",
              "      <td>...</td>\n",
              "      <td>...</td>\n",
              "      <td>...</td>\n",
              "      <td>...</td>\n",
              "      <td>...</td>\n",
              "      <td>...</td>\n",
              "      <td>...</td>\n",
              "      <td>...</td>\n",
              "      <td>...</td>\n",
              "      <td>...</td>\n",
              "      <td>...</td>\n",
              "      <td>...</td>\n",
              "      <td>...</td>\n",
              "      <td>...</td>\n",
              "      <td>...</td>\n",
              "      <td>...</td>\n",
              "      <td>...</td>\n",
              "    </tr>\n",
              "    <tr>\n",
              "      <th>5734</th>\n",
              "      <td>FALSE POSITIVE</td>\n",
              "      <td>0.000</td>\n",
              "      <td>0.0</td>\n",
              "      <td>0.0</td>\n",
              "      <td>1.0</td>\n",
              "      <td>0.0</td>\n",
              "      <td>2.399082</td>\n",
              "      <td>133.064250</td>\n",
              "      <td>1.2760</td>\n",
              "      <td>4.3840</td>\n",
              "      <td>6071.6</td>\n",
              "      <td>40.60</td>\n",
              "      <td>1360.0</td>\n",
              "      <td>810.78</td>\n",
              "      <td>89.9</td>\n",
              "      <td>1.0</td>\n",
              "      <td>5780.0</td>\n",
              "      <td>4.438</td>\n",
              "      <td>1.000</td>\n",
              "      <td>298.57697</td>\n",
              "      <td>40.490395</td>\n",
              "      <td>16.494</td>\n",
              "    </tr>\n",
              "    <tr>\n",
              "      <th>5191</th>\n",
              "      <td>CANDIDATE</td>\n",
              "      <td>0.967</td>\n",
              "      <td>0.0</td>\n",
              "      <td>0.0</td>\n",
              "      <td>0.0</td>\n",
              "      <td>0.0</td>\n",
              "      <td>82.175197</td>\n",
              "      <td>197.201870</td>\n",
              "      <td>0.0150</td>\n",
              "      <td>8.6640</td>\n",
              "      <td>546.4</td>\n",
              "      <td>2.24</td>\n",
              "      <td>441.0</td>\n",
              "      <td>8.92</td>\n",
              "      <td>20.8</td>\n",
              "      <td>1.0</td>\n",
              "      <td>6247.0</td>\n",
              "      <td>4.489</td>\n",
              "      <td>0.954</td>\n",
              "      <td>295.94827</td>\n",
              "      <td>44.753120</td>\n",
              "      <td>15.292</td>\n",
              "    </tr>\n",
              "    <tr>\n",
              "      <th>5390</th>\n",
              "      <td>FALSE POSITIVE</td>\n",
              "      <td>0.000</td>\n",
              "      <td>0.0</td>\n",
              "      <td>1.0</td>\n",
              "      <td>1.0</td>\n",
              "      <td>1.0</td>\n",
              "      <td>1.195515</td>\n",
              "      <td>132.303851</td>\n",
              "      <td>1.2810</td>\n",
              "      <td>5.0834</td>\n",
              "      <td>8054.4</td>\n",
              "      <td>49.33</td>\n",
              "      <td>1959.0</td>\n",
              "      <td>3469.70</td>\n",
              "      <td>309.1</td>\n",
              "      <td>1.0</td>\n",
              "      <td>6040.0</td>\n",
              "      <td>4.271</td>\n",
              "      <td>1.155</td>\n",
              "      <td>297.54337</td>\n",
              "      <td>41.947979</td>\n",
              "      <td>13.998</td>\n",
              "    </tr>\n",
              "    <tr>\n",
              "      <th>860</th>\n",
              "      <td>CANDIDATE</td>\n",
              "      <td>1.000</td>\n",
              "      <td>0.0</td>\n",
              "      <td>0.0</td>\n",
              "      <td>0.0</td>\n",
              "      <td>0.0</td>\n",
              "      <td>6.230335</td>\n",
              "      <td>181.295660</td>\n",
              "      <td>0.8080</td>\n",
              "      <td>1.6493</td>\n",
              "      <td>1449.2</td>\n",
              "      <td>3.70</td>\n",
              "      <td>875.0</td>\n",
              "      <td>138.33</td>\n",
              "      <td>31.6</td>\n",
              "      <td>1.0</td>\n",
              "      <td>5477.0</td>\n",
              "      <td>4.557</td>\n",
              "      <td>0.865</td>\n",
              "      <td>284.20966</td>\n",
              "      <td>45.258080</td>\n",
              "      <td>15.977</td>\n",
              "    </tr>\n",
              "    <tr>\n",
              "      <th>7270</th>\n",
              "      <td>FALSE POSITIVE</td>\n",
              "      <td>NaN</td>\n",
              "      <td>1.0</td>\n",
              "      <td>0.0</td>\n",
              "      <td>0.0</td>\n",
              "      <td>0.0</td>\n",
              "      <td>289.788624</td>\n",
              "      <td>370.803900</td>\n",
              "      <td>0.6187</td>\n",
              "      <td>2.8570</td>\n",
              "      <td>473.9</td>\n",
              "      <td>5.51</td>\n",
              "      <td>537.0</td>\n",
              "      <td>19.60</td>\n",
              "      <td>6.6</td>\n",
              "      <td>2.0</td>\n",
              "      <td>8057.0</td>\n",
              "      <td>3.946</td>\n",
              "      <td>2.407</td>\n",
              "      <td>295.32828</td>\n",
              "      <td>38.847500</td>\n",
              "      <td>10.924</td>\n",
              "    </tr>\n",
              "  </tbody>\n",
              "</table>\n",
              "<p>7651 rows × 22 columns</p>\n",
              "</div>\n",
              "      <button class=\"colab-df-convert\" onclick=\"convertToInteractive('df-61afffa2-1e91-4816-ad00-e3c86713380d')\"\n",
              "              title=\"Convert this dataframe to an interactive table.\"\n",
              "              style=\"display:none;\">\n",
              "        \n",
              "  <svg xmlns=\"http://www.w3.org/2000/svg\" height=\"24px\"viewBox=\"0 0 24 24\"\n",
              "       width=\"24px\">\n",
              "    <path d=\"M0 0h24v24H0V0z\" fill=\"none\"/>\n",
              "    <path d=\"M18.56 5.44l.94 2.06.94-2.06 2.06-.94-2.06-.94-.94-2.06-.94 2.06-2.06.94zm-11 1L8.5 8.5l.94-2.06 2.06-.94-2.06-.94L8.5 2.5l-.94 2.06-2.06.94zm10 10l.94 2.06.94-2.06 2.06-.94-2.06-.94-.94-2.06-.94 2.06-2.06.94z\"/><path d=\"M17.41 7.96l-1.37-1.37c-.4-.4-.92-.59-1.43-.59-.52 0-1.04.2-1.43.59L10.3 9.45l-7.72 7.72c-.78.78-.78 2.05 0 2.83L4 21.41c.39.39.9.59 1.41.59.51 0 1.02-.2 1.41-.59l7.78-7.78 2.81-2.81c.8-.78.8-2.07 0-2.86zM5.41 20L4 18.59l7.72-7.72 1.47 1.35L5.41 20z\"/>\n",
              "  </svg>\n",
              "      </button>\n",
              "      \n",
              "  <style>\n",
              "    .colab-df-container {\n",
              "      display:flex;\n",
              "      flex-wrap:wrap;\n",
              "      gap: 12px;\n",
              "    }\n",
              "\n",
              "    .colab-df-convert {\n",
              "      background-color: #E8F0FE;\n",
              "      border: none;\n",
              "      border-radius: 50%;\n",
              "      cursor: pointer;\n",
              "      display: none;\n",
              "      fill: #1967D2;\n",
              "      height: 32px;\n",
              "      padding: 0 0 0 0;\n",
              "      width: 32px;\n",
              "    }\n",
              "\n",
              "    .colab-df-convert:hover {\n",
              "      background-color: #E2EBFA;\n",
              "      box-shadow: 0px 1px 2px rgba(60, 64, 67, 0.3), 0px 1px 3px 1px rgba(60, 64, 67, 0.15);\n",
              "      fill: #174EA6;\n",
              "    }\n",
              "\n",
              "    [theme=dark] .colab-df-convert {\n",
              "      background-color: #3B4455;\n",
              "      fill: #D2E3FC;\n",
              "    }\n",
              "\n",
              "    [theme=dark] .colab-df-convert:hover {\n",
              "      background-color: #434B5C;\n",
              "      box-shadow: 0px 1px 3px 1px rgba(0, 0, 0, 0.15);\n",
              "      filter: drop-shadow(0px 1px 2px rgba(0, 0, 0, 0.3));\n",
              "      fill: #FFFFFF;\n",
              "    }\n",
              "  </style>\n",
              "\n",
              "      <script>\n",
              "        const buttonEl =\n",
              "          document.querySelector('#df-61afffa2-1e91-4816-ad00-e3c86713380d button.colab-df-convert');\n",
              "        buttonEl.style.display =\n",
              "          google.colab.kernel.accessAllowed ? 'block' : 'none';\n",
              "\n",
              "        async function convertToInteractive(key) {\n",
              "          const element = document.querySelector('#df-61afffa2-1e91-4816-ad00-e3c86713380d');\n",
              "          const dataTable =\n",
              "            await google.colab.kernel.invokeFunction('convertToInteractive',\n",
              "                                                     [key], {});\n",
              "          if (!dataTable) return;\n",
              "\n",
              "          const docLinkHtml = 'Like what you see? Visit the ' +\n",
              "            '<a target=\"_blank\" href=https://colab.research.google.com/notebooks/data_table.ipynb>data table notebook</a>'\n",
              "            + ' to learn more about interactive tables.';\n",
              "          element.innerHTML = '';\n",
              "          dataTable['output_type'] = 'display_data';\n",
              "          await google.colab.output.renderOutput(dataTable, element);\n",
              "          const docLink = document.createElement('div');\n",
              "          docLink.innerHTML = docLinkHtml;\n",
              "          element.appendChild(docLink);\n",
              "        }\n",
              "      </script>\n",
              "    </div>\n",
              "  </div>\n",
              "  "
            ],
            "text/plain": [
              "     koi_pdisposition  koi_score  ...        dec  koi_kepmag\n",
              "8117   FALSE POSITIVE      0.000  ...  43.689152      14.569\n",
              "5245        CANDIDATE      0.997  ...  49.706661      13.785\n",
              "5865   FALSE POSITIVE      1.000  ...  40.027969      10.455\n",
              "4050   FALSE POSITIVE      0.000  ...  41.698582      15.407\n",
              "5130        CANDIDATE      0.996  ...  46.618809      15.954\n",
              "...               ...        ...  ...        ...         ...\n",
              "5734   FALSE POSITIVE      0.000  ...  40.490395      16.494\n",
              "5191        CANDIDATE      0.967  ...  44.753120      15.292\n",
              "5390   FALSE POSITIVE      0.000  ...  41.947979      13.998\n",
              "860         CANDIDATE      1.000  ...  45.258080      15.977\n",
              "7270   FALSE POSITIVE        NaN  ...  38.847500      10.924\n",
              "\n",
              "[7651 rows x 22 columns]"
            ]
          },
          "metadata": {},
          "execution_count": 49
        }
      ]
    },
    {
      "cell_type": "code",
      "source": [
        "X_train_prepared = full_pipeline.fit_transform(X_train)"
      ],
      "metadata": {
        "id": "7--EswgGfMKP"
      },
      "execution_count": 19,
      "outputs": []
    },
    {
      "cell_type": "code",
      "source": [
        "print(len(X_train_prepared))"
      ],
      "metadata": {
        "colab": {
          "base_uri": "https://localhost:8080/"
        },
        "id": "K19Oe_utFLN8",
        "outputId": "09351460-25c4-4db3-e3a3-5665e4d83bc4"
      },
      "execution_count": 20,
      "outputs": [
        {
          "output_type": "stream",
          "name": "stdout",
          "text": [
            "7651\n"
          ]
        }
      ]
    },
    {
      "cell_type": "code",
      "source": [
        "from sklearn.neighbors import KNeighborsClassifier\n",
        "from sklearn.model_selection import RandomizedSearchCV\n",
        "knn = KNeighborsClassifier()\n",
        "param_dist = {'n_neighbors': list(range(1,100))}\n",
        "Search = RandomizedSearchCV(knn, param_distributions = param_dist)\n",
        "Search.fit(X_train_prepared, y_train)\n",
        "print(Search.best_estimator_)"
      ],
      "metadata": {
        "colab": {
          "base_uri": "https://localhost:8080/"
        },
        "id": "hWFE-A_SPWp5",
        "outputId": "b63a22f0-45e8-421f-b394-d9f35dc0fd29"
      },
      "execution_count": 50,
      "outputs": [
        {
          "output_type": "stream",
          "name": "stdout",
          "text": [
            "KNeighborsClassifier(n_neighbors=41)\n"
          ]
        }
      ]
    },
    {
      "cell_type": "code",
      "source": [
        "from sklearn.metrics import accuracy_score, precision_score, recall_score, f1_score\n",
        "def print_metrics(test, predictions, name):\n",
        "  acc = accuracy_score(test, predictions)\n",
        "  prec = precision_score(test, predictions, average= \"weighted\")\n",
        "  rec = recall_score(test, predictions, average=\"weighted\")\n",
        "  f1 = f1_score(test, predictions, average=\"weighted\")\n",
        "\n",
        "  print(name)\n",
        "  print(f\"Accuracy Score is {acc}\")\n",
        "  print(f\"Precision Score is {prec}\")\n",
        "  print(f\"Recall Score is {rec}\")\n",
        "  print(f\"F1_Score is {f1}\")"
      ],
      "metadata": {
        "id": "wQH_9NChSVFm"
      },
      "execution_count": 70,
      "outputs": []
    },
    {
      "cell_type": "code",
      "source": [
        "X_test_prepared = full_pipeline.fit_transform(X_test)\n",
        "y_pred = Search.predict(X_test_prepared)\n",
        "print_metrics(y_test, y_pred, \"KNN\")"
      ],
      "metadata": {
        "colab": {
          "base_uri": "https://localhost:8080/"
        },
        "id": "Aua-p8XiHFYA",
        "outputId": "ba50d75e-32a9-4d8f-f570-72ebbc3dc3ee"
      },
      "execution_count": 51,
      "outputs": [
        {
          "output_type": "stream",
          "name": "stdout",
          "text": [
            "KNN\n",
            "Accuracy Score is 0.8389963408259279\n",
            "Precision Score is 0.8517229958209445\n",
            "Recall Score is 0.8389963408259279\n",
            "F1_Score is 0.8326647364755163\n"
          ]
        }
      ]
    },
    {
      "cell_type": "code",
      "source": [
        "from sklearn.tree import DecisionTreeClassifier\n",
        "dtc = DecisionTreeClassifier()\n",
        "param_dist_1 = {'max_depth': list(range(1,9)), 'min_samples_leaf':list(range(3,8)),'max_features':list(range(7,18)),'min_samples_split':list(range(2,7))}\n",
        "Search_tree = RandomizedSearchCV(dtc, param_distributions = param_dist_1)\n",
        "y_train_label = LabelBinarizer().fit_transform(y_train)\n",
        "Search_tree.fit(X_train_prepared, y_train)\n",
        "print(Search_tree.best_estimator_)"
      ],
      "metadata": {
        "colab": {
          "base_uri": "https://localhost:8080/"
        },
        "id": "Vi7LpCkhoDFj",
        "outputId": "1f14b785-43a7-4ba7-8664-cf036af2653a"
      },
      "execution_count": 67,
      "outputs": [
        {
          "output_type": "stream",
          "name": "stdout",
          "text": [
            "DecisionTreeClassifier(max_depth=6, max_features=17, min_samples_leaf=6,\n",
            "                       min_samples_split=4)\n"
          ]
        }
      ]
    },
    {
      "cell_type": "code",
      "source": [
        "y_pred_tree = Search_tree.predict(X_test_prepared)\n",
        "y_test_label = LabelBinarizer().fit_transform(y_test)\n",
        "print_metrics(y_test, y_pred_tree, \"DecisionTreeClassifier\")"
      ],
      "metadata": {
        "colab": {
          "base_uri": "https://localhost:8080/"
        },
        "id": "sQyLryWZun4o",
        "outputId": "6d66af14-3988-45f8-8a95-72697bb5cdb5"
      },
      "execution_count": 68,
      "outputs": [
        {
          "output_type": "stream",
          "name": "stdout",
          "text": [
            "DecisionTreeClassifier\n",
            "Accuracy Score is 0.861996863565081\n",
            "Precision Score is 0.8960258780790791\n",
            "Recall Score is 0.861996863565081\n",
            "F1_Score is 0.8535277023836\n"
          ]
        }
      ]
    },
    {
      "cell_type": "code",
      "source": [
        "from sklearn.svm import SVC\n",
        "from sklearn.multiclass import OneVsOneClassifier\n",
        "\n",
        "svm = SVC(random_state=42)\n",
        "svm.fit(X_train_prepared, y_train)\n",
        "y_pred_svm = svm.predict(X_test_prepared)\n",
        "print_metrics(y_test, y_pred_svm, \"SVM\")\n",
        "\n"
      ],
      "metadata": {
        "colab": {
          "base_uri": "https://localhost:8080/"
        },
        "id": "m8PSYe8WxAmb",
        "outputId": "1b8dd41c-4bcf-46ef-cdb6-13be18f622b2"
      },
      "execution_count": 80,
      "outputs": [
        {
          "output_type": "stream",
          "name": "stdout",
          "text": [
            "SVM\n",
            "Accuracy Score is 0.8515420805018296\n",
            "Precision Score is 0.8695246506987565\n",
            "Recall Score is 0.8515420805018296\n",
            "F1_Score is 0.8443503804059787\n"
          ]
        }
      ]
    },
    {
      "cell_type": "code",
      "source": [
        "svm2 = SVC(random_state=42)\n",
        "clf = OneVsOneClassifier(svm2)\n",
        "clf.fit(X_train_prepared, y_train)\n",
        "y_pred_ovo = clf.predict(X_test_prepared)\n",
        "print_metrics(y_test, y_pred_ovo, \"SVM one vs one\")"
      ],
      "metadata": {
        "colab": {
          "base_uri": "https://localhost:8080/"
        },
        "id": "28dG0hfZ0OK-",
        "outputId": "0b0ae00c-d7d2-49fb-a321-8fff74e29358"
      },
      "execution_count": 79,
      "outputs": [
        {
          "output_type": "stream",
          "name": "stdout",
          "text": [
            "SVM one vs one\n",
            "Accuracy Score is 0.8525875588081547\n",
            "Precision Score is 0.8683895781848603\n",
            "Recall Score is 0.8525875588081547\n",
            "F1_Score is 0.8460979518045811\n"
          ]
        }
      ]
    },
    {
      "cell_type": "code",
      "source": [
        "svm3 = SVC(random_state=42)\n",
        "param_dist_3 = {'C':list(range(1,5)),'kernel':['linear','poly','rbf'],'degree':list(range(2,7))}\n",
        "Search_svc = RandomizedSearchCV(svm3, param_distributions= param_dist_3)\n",
        "Search_svc.fit(X_train_prepared, y_train)\n",
        "print(Search_svc.best_estimator_)"
      ],
      "metadata": {
        "colab": {
          "base_uri": "https://localhost:8080/"
        },
        "id": "ZoreoZi54fKP",
        "outputId": "7149d393-fc98-4f53-fa89-f49d38ff8e9b"
      },
      "execution_count": 82,
      "outputs": [
        {
          "output_type": "stream",
          "name": "stdout",
          "text": [
            "SVC(C=3, degree=4, random_state=42)\n"
          ]
        }
      ]
    },
    {
      "cell_type": "code",
      "source": [
        "y_pred_svc = Search_svc.predict(X_test_prepared)\n",
        "print_metrics(y_test, y_pred_svc, \"SVC\")"
      ],
      "metadata": {
        "colab": {
          "base_uri": "https://localhost:8080/"
        },
        "id": "ZAt9E0Or7p_L",
        "outputId": "347291dd-de80-434b-e803-2276b6c2fd96"
      },
      "execution_count": 83,
      "outputs": [
        {
          "output_type": "stream",
          "name": "stdout",
          "text": [
            "SVC\n",
            "Accuracy Score is 0.8520648196549921\n",
            "Precision Score is 0.865245715393427\n",
            "Recall Score is 0.8520648196549921\n",
            "F1_Score is 0.8464351623553834\n"
          ]
        }
      ]
    }
  ]
}